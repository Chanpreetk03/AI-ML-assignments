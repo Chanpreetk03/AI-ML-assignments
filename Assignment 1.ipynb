{
 "cells": [
  {
   "cell_type": "markdown",
   "id": "0387c1a8",
   "metadata": {},
   "source": [
    "<h1 align=\"center\"> ASSIGNMENT-1</h1>\n",
    "\n",
    "***"
   ]
  },
  {
   "cell_type": "markdown",
   "id": "5b645be7",
   "metadata": {},
   "source": [
    "### Question: ###\n",
    "\n",
    "Create a doubly linked list with your family members as elements; include the following details as node values:\n",
    "Name,\n",
    "Age\n"
   ]
  },
  {
   "cell_type": "markdown",
   "id": "77dcd82c",
   "metadata": {},
   "source": [
    "#### Class for node i.e. the basic block containg the information which we connect "
   ]
  },
  {
   "cell_type": "code",
   "execution_count": 1,
   "id": "40543b04",
   "metadata": {},
   "outputs": [],
   "source": [
    "# creating a node class\n",
    "class doubleLLNode:\n",
    "    # constructor\n",
    "    def __init__(self , next= None , previous = None , name = None  , age = None  , relation = None ):\n",
    "        # initialising the node\n",
    "        \n",
    "        self.next = next                  # variable which stores the address of next node\n",
    "        self.previous = previous          # variable which stores the address of previous node\n",
    "        \n",
    "        self.name = name                  # variable which stores the value of name(string) of this node\n",
    "        self.age = age                    # variable which stores the value of name(int) of this node\n",
    "        self.relation=relation              # variable which stores the relation(string) to me"
   ]
  },
  {
   "cell_type": "markdown",
   "id": "897bbbe5",
   "metadata": {},
   "source": [
    "#### Creating a class for doubly linked list and various functions"
   ]
  },
  {
   "cell_type": "code",
   "execution_count": 2,
   "id": "0fbff9c7",
   "metadata": {},
   "outputs": [],
   "source": [
    "class doubleLinkedList:\n",
    "    # constructor\n",
    "    def __init__(self) -> None:\n",
    "        # constructor for empty list\n",
    "    \n",
    "        self.head = None\n",
    "        '''self.age=None\n",
    "        self.relation=None'''\n",
    "        # function to add a node at the end of the doubly linked list. \n",
    "    def insert(self , name , age , relation):\n",
    "        \n",
    "\n",
    "        # creating a new node and put the data in it.\n",
    "        newNode = doubleLLNode(name=name , age=age , relation=relation)\n",
    "\n",
    "        temp = self.head                                            # creating a copy of head.\n",
    "        newNode.next = None                                        \n",
    "\n",
    "        if self.head == None:                                      #insertion in empty ll\n",
    "            #newNode.previous = None\n",
    "            self.head = newNode\n",
    "            return\n",
    "\n",
    "        while temp.next != None:                                   # traversal till last node.\n",
    "            temp = temp.next\n",
    "\n",
    "        temp.next = newNode                                        # change the next of last node.\n",
    "        newNode.previous = temp                                    # make last node as previous of new node.\n",
    "\n",
    "        return\n",
    "    \n",
    "    \n",
    "      # function to add a node after a given node\n",
    "    def insertAfterIndex(self , index , name , age , relation):\n",
    "      \n",
    "        temp=self.head\n",
    "        \n",
    "        while index>=0:                                             #checking the value of index\n",
    "            if temp.next == None:\n",
    "                print(\"Index is too big\")\n",
    "                return\n",
    "            else:\n",
    "                temp=temp.next\n",
    "                index-=1;\n",
    "                \n",
    "            temp=temp.previous\n",
    "            \n",
    "        # creating a new node and put the data in it.\n",
    "        newNode = doubleLLNode(name , age , relation)\n",
    "        \n",
    "        \n",
    "        newNode.next = temp.next                             \n",
    "        temp.next = newNode                                   \n",
    "        newNode.previous = temp                               \n",
    "        if newNode.next != None:\n",
    "            newNode.next.previous = newNode \n",
    "            \n",
    "            \n",
    "    def  printLL(self) :\n",
    "        # printing the list\n",
    "        temp=self.head\n",
    "        print(\"Meet my family:\")\n",
    "        \n",
    "        while temp != None:\n",
    "            if temp.relation == \"Me\":\n",
    "                print(\"Hi, I am the user\",temp.name,\"aged\",temp.age)\n",
    "            else:\n",
    "                print(\"Hi,\", temp.name,\"this side. My age is\",temp.age, \"I am user's\", temp.relation)\n",
    "                \n",
    "            temp=temp.next\n",
    "            \n",
    "           \n",
    "            \n",
    "    def __del__(self):\n",
    "        pass\n",
    "            "
   ]
  },
  {
   "cell_type": "markdown",
   "id": "dfdd8c7a",
   "metadata": {},
   "source": [
    "#### Creating the doubly linked list"
   ]
  },
  {
   "cell_type": "code",
   "execution_count": 3,
   "id": "cc317251",
   "metadata": {},
   "outputs": [
    {
     "name": "stdout",
     "output_type": "stream",
     "text": [
      "Meet my family:\n",
      "Hi, Rajender Singh this side. My age is 52 I am user's Father\n",
      "Hi, Gurvinder Kaur this side. My age is 51 I am user's Mother\n",
      "Hi, Rachindr Singh this side. My age is 24 I am user's Brother\n",
      "Hi, I am the user Chanpreet Kaur aged 19\n"
     ]
    }
   ],
   "source": [
    "familyLL=doubleLinkedList()\n",
    "familyLL.insert(\"Rajender Singh\" , 52 , \"Father\" )\n",
    "familyLL.insert(\"Gurvinder Kaur\" , 51 , \"Mother\")\n",
    "familyLL.insert(\"Rachindr Singh\" , 24 , \"Brother\")\n",
    "familyLL.insert(\"Chanpreet Kaur\" , 19 , \"Me\")\n",
    "\n",
    "familyLL.printLL()\n"
   ]
  },
  {
   "cell_type": "markdown",
   "id": "2e422b79",
   "metadata": {},
   "source": [
    "***"
   ]
  },
  {
   "cell_type": "markdown",
   "id": "be6099f5",
   "metadata": {},
   "source": [
    "#### Bonus part: ###"
   ]
  },
  {
   "cell_type": "markdown",
   "id": "8d012006",
   "metadata": {},
   "source": [
    "If we are to link the family members with the help of relation with one another it can not be done be done with the help of linear data structures as these relations are hierarchical.\n",
    "\n",
    "\n",
    "For eg. in typical family trees we place parents a level above the children. So our options are trees and graphs. Here the graphs will be considered better than trees.\n",
    "\n",
    "\n",
    "For example, if you consider marriage, a new member is added to the family tree without previous connection in it. This would mean connecting a new node at height more than 1 which is not feasable in trees, but in graphs it is possible and does happen, also we can have more than 1 connection in graphs. \n",
    "\n",
    "\n",
    "![pic](https://assets.interviewbit.com/assets/skill_interview_questions/data-structure/tree-data-structure-7472419821158750c121c123b9ee58557e4bca11fa7e13e8fe3fa4ed1c55c85d.png.gz)"
   ]
  }
 ],
 "metadata": {
  "celltoolbar": "Tags",
  "kernelspec": {
   "display_name": "Python 3 (ipykernel)",
   "language": "python",
   "name": "python3"
  },
  "language_info": {
   "codemirror_mode": {
    "name": "ipython",
    "version": 3
   },
   "file_extension": ".py",
   "mimetype": "text/x-python",
   "name": "python",
   "nbconvert_exporter": "python",
   "pygments_lexer": "ipython3",
   "version": "3.9.7"
  }
 },
 "nbformat": 4,
 "nbformat_minor": 5
}
