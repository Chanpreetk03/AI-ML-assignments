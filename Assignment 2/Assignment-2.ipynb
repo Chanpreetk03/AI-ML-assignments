{
 "cells": [
  {
   "cell_type": "markdown",
   "id": "d841bb69",
   "metadata": {},
   "source": [
    "# ASSIGNMENT-2\n",
    "\n",
    "***\n",
    "---\n",
    "\n",
    "## Question 1:\n",
    "### While traversing a single-circular linked list, which condition establishes that the traversing element/variable has reached the first element?\n",
    "\n",
    "***\n",
    "\n",
    "<img src=\"https://github.com/Chanpreetk03/DSA-Assignments/blob/main/Assignment%202/assets/assignment_2.PNG?raw=true\" alt=\"circular ll\" >\n"
   ]
  },
  {
   "cell_type": "markdown",
   "id": "79ae917a",
   "metadata": {},
   "source": [
    "In a linked list we store the address of the first node and in it the address of second node and hence the whole list.\n",
    "\n",
    "We traverse the LL by moving to the next address but the address of head is still stored with us. Thus, by comparing the address of any given node and head we can figure out if we have reached the first element of the linked list."
   ]
  },
  {
   "cell_type": "markdown",
   "id": "5db5955e",
   "metadata": {},
   "source": [
    "#### Here's the code for same:"
   ]
  },
  {
   "cell_type": "code",
   "execution_count": 1,
   "id": "4c54ba9f",
   "metadata": {},
   "outputs": [],
   "source": [
    "'''Code to find if you have reached head'''\n",
    "# this is just the function not the whole class\n",
    "\n",
    "def isFirstElement(self , node):\n",
    "    if self.head==node:\n",
    "        return true\n",
    "    \n",
    "    else:\n",
    "        return false"
   ]
  },
  {
   "cell_type": "markdown",
   "id": "12272ede",
   "metadata": {},
   "source": [
    "***\n",
    "\n",
    "## Question 2:\n",
    "### What are the practical applications of a circular linked list? (Try to find applications in your respective fields)"
   ]
  },
  {
   "cell_type": "markdown",
   "id": "271223b2",
   "metadata": {},
   "source": [
    "We see circular linked list in various ways around ourselves without realising it. Some of its examples are:\n",
    "1) Multiple running applications can be placed in a circular linked list on an operating system. The os keeps on iterating   over these applications.\n",
    "\n",
    "<img src=\"https://github.com/Chanpreetk03/DSA-Assignments/blob/main/Assignment%202/assets/pic1.PNG?raw=true\" alt=\"pic1\" width=\"500\" height=\"250\">\n",
    "\n",
    "2) It is used in multiplayer games to give a chance to each player to play the game.\n",
    "\n",
    "<img src=\"https://github.com/Chanpreetk03/DSA-Assignments/blob/main/Assignment%202/assets/pic2.PNG?raw=true\" alt=\"pic2\" width=\"200\" height=\"100\">\n",
    "\n",
    "3) It is also used by Operating system to share time for different users, generally uses Round-Robin time sharing mechanism.\n",
    "\n",
    "<img src=\"https://github.com/Chanpreetk03/DSA-Assignments/blob/main/Assignment%202/assets/pic3.PNG?raw=true\" alt=\"pic3\" width=\"250\" height=\"250\">\n",
    "\n",
    "4) Looping in music player is also an example of circular linked list\n",
    "\n",
    "<img src=\"https://github.com/Chanpreetk03/DSA-Assignments/blob/main/Assignment%202/assets/pic4.PNG?raw=true\" alt=\"pic4\" width=\"250\" height=\"200\">\n"
   ]
  }
 ],
 "metadata": {
  "kernelspec": {
   "display_name": "Python 3 (ipykernel)",
   "language": "python",
   "name": "python3"
  },
  "language_info": {
   "codemirror_mode": {
    "name": "ipython",
    "version": 3
   },
   "file_extension": ".py",
   "mimetype": "text/x-python",
   "name": "python",
   "nbconvert_exporter": "python",
   "pygments_lexer": "ipython3",
   "version": "3.9.7"
  }
 },
 "nbformat": 4,
 "nbformat_minor": 5
}
