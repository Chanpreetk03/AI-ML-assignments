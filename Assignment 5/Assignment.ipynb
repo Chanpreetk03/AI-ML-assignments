{
 "cells": [
  {
   "cell_type": "code",
   "execution_count": null,
   "metadata": {},
   "outputs": [],
   "source": []
  },
  {
   "cell_type": "markdown",
   "metadata": {},
   "source": [
    "# Assignment"
   ]
  },
  {
   "cell_type": "markdown",
   "metadata": {},
   "source": [
    "## Question:\n",
    "#### Compare Bubble sort and Selection sort based on the following:\n",
    "1. Number of comparisons\n",
    "2. Number of swaps\n",
    "3. Inplace and Outplace implementations\n",
    "\n",
    "All the comparisons should be made through coding implementations."
   ]
  },
  {
   "cell_type": "markdown",
   "metadata": {},
   "source": [
    "### Code for Bubble Sort\n"
   ]
  },
  {
   "cell_type": "code",
   "execution_count": 6,
   "metadata": {},
   "outputs": [
    {
     "name": "stdout",
     "output_type": "stream",
     "text": [
      "Sorted Array in Ascending Order:\n",
      "[-9, -2, 0, 11, 45] 0 0\n"
     ]
    }
   ],
   "source": [
    "\n",
    "def bubbleSort(array,numOfComparisons,numOfSwaps):\n",
    "\n",
    "    \n",
    "  # loop to access each array element\n",
    "    for i in range(len(array)):\n",
    "\n",
    "    # loop to compare array elements\n",
    "        for j in range(0, len(array) - i - 1):\n",
    "\n",
    "      # compare two adjacent elements\n",
    "            if array[j] > array[j + 1]:\n",
    "\n",
    "        # swapping elements if needed\n",
    "                array[j],array[j+1]=array[j+1],array[j]\n",
    "                numOfSwaps+=1\n",
    "\n",
    "            numOfComparisons+=1  \n",
    "\n",
    "\n",
    "\n",
    "data = [-2, 45, 0, 11, -9]\n",
    "numOfComparisons=0\n",
    "numOfSwaps=0\n",
    "bubbleSort(data,numOfComparisons,numOfSwaps)\n",
    "\n",
    "print('Sorted Array in Ascending Order:')\n",
    "print(data , numOfComparisons , numOfSwaps)"
   ]
  },
  {
   "cell_type": "markdown",
   "metadata": {},
   "source": [
    "### Code for Selection Sort"
   ]
  },
  {
   "cell_type": "code",
   "execution_count": 7,
   "metadata": {},
   "outputs": [
    {
     "name": "stdout",
     "output_type": "stream",
     "text": [
      "Sorted Array in Ascending Order:\n",
      "[-9, -2, 0, 11, 45]\n"
     ]
    }
   ],
   "source": [
    "# Selection sort in Python\n",
    "\n",
    "\n",
    "def selectionSort(array, size):\n",
    "   \n",
    "    for step in range(size):\n",
    "        min_idx = step\n",
    "\n",
    "        for i in range(step + 1, size):\n",
    "         \n",
    "            # to sort in descending order, change > to < in this line\n",
    "            # select the minimum element in each loop\n",
    "            if array[i] < array[min_idx]:\n",
    "                min_idx = i\n",
    "         \n",
    "        # put min at the correct position\n",
    "        (array[step], array[min_idx]) = (array[min_idx], array[step])\n",
    "\n",
    "\n",
    "data = [-2, 45, 0, 11, -9]\n",
    "size = len(data)\n",
    "selectionSort(data, size)\n",
    "print('Sorted Array in Ascending Order:')\n",
    "print(data)"
   ]
  }
 ],
 "metadata": {
  "kernelspec": {
   "display_name": "Python 3.10.6 64-bit",
   "language": "python",
   "name": "python3"
  },
  "language_info": {
   "codemirror_mode": {
    "name": "ipython",
    "version": 3
   },
   "file_extension": ".py",
   "mimetype": "text/x-python",
   "name": "python",
   "nbconvert_exporter": "python",
   "pygments_lexer": "ipython3",
   "version": "3.10.6"
  },
  "orig_nbformat": 4,
  "vscode": {
   "interpreter": {
    "hash": "26de051ba29f2982a8de78e945f0abaf191376122a1563185a90213a26c5da77"
   }
  }
 },
 "nbformat": 4,
 "nbformat_minor": 2
}
