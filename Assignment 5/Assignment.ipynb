{
 "cells": [
  {
   "cell_type": "markdown",
   "metadata": {},
   "source": [
    "# Assignment"
   ]
  },
  {
   "cell_type": "markdown",
   "metadata": {},
   "source": [
    "## Question:\n",
    "#### Compare Bubble sort and Selection sort based on the following:\n",
    "1. Number of comparisons\n",
    "2. Number of swaps\n",
    "3. Inplace and Outplace implementations\n",
    "\n",
    "All the comparisons should be made through coding implementations."
   ]
  },
  {
   "cell_type": "markdown",
   "metadata": {},
   "source": [
    "### Code for Bubble Sort\n"
   ]
  },
  {
   "cell_type": "code",
   "execution_count": 36,
   "metadata": {},
   "outputs": [
    {
     "name": "stdout",
     "output_type": "stream",
     "text": [
      "Using BUBBLE SORT\n",
      "The data being sorted is: [-2, 45, 0, 11, -9]\n",
      "Sorted Array in Ascending Order: [-9, -2, 0, 11, 45] With the number of comparisons= 10 and number of swaps= 6\n",
      "The data being sorted is: [1, 2, 3, 4, 5]\n",
      "Sorted Array in Ascending Order: [1, 2, 3, 4, 5] With the number of comparisons= 10 and number of swaps= 0\n",
      "The data being sorted is: [5, 4, 3, 2, 1]\n",
      "Sorted Array in Ascending Order: [1, 2, 3, 4, 5] With the number of comparisons= 10 and number of swaps= 10\n"
     ]
    }
   ],
   "source": [
    "\n",
    "def bubbleSort(array):\n",
    "  numOfComparisons=0\n",
    "  numOfSwaps=0\n",
    "    \n",
    "  # loop to access each array element\n",
    "  for i in range(len(array)):\n",
    "    \n",
    "    # loop to compare array elements\n",
    "    for j in range(0, len(array) - i - 1):\n",
    "\n",
    "    # compare two adjacent elements\n",
    "        if array[j] > array[j + 1]:\n",
    "\n",
    "      # swapping elements if needed\n",
    "            array[j],array[j+1]=array[j+1],array[j]\n",
    "            numOfSwaps+=1\n",
    "\n",
    "        numOfComparisons+=1\n",
    "        #print(numOfComparisons,numOfSwaps)\n",
    "  return numOfComparisons, numOfSwaps\n",
    "\n",
    "\n",
    "print(\"Using BUBBLE SORT\")\n",
    "data1 = [-2, 45, 0, 11, -9]\n",
    "print(\"The data being sorted is:\",data1)\n",
    "num_comparisons1 , num_swaps1 = bubbleSort(data1)\n",
    "print(\"Sorted Array in Ascending Order:\" , data1 , \"With the number of comparisons=\", num_comparisons1,\"and number of swaps=\",num_swaps1)\n",
    "\n",
    "data2 = [1, 2, 3, 4, 5]\n",
    "print(\"The data being sorted is:\",data2)\n",
    "num_comparisons2 , num_swaps2 = bubbleSort(data2)\n",
    "print(\"Sorted Array in Ascending Order:\" , data2 , \"With the number of comparisons=\", num_comparisons2,\"and number of swaps=\",num_swaps2)\n",
    "\n",
    "data3 = [5, 4, 3, 2, 1]\n",
    "print(\"The data being sorted is:\",data3)\n",
    "num_comparisons3 , num_swaps3 = bubbleSort(data3)\n",
    "print(\"Sorted Array in Ascending Order:\" , data3 , \"With the number of comparisons=\", num_comparisons3,\"and number of swaps=\",num_swaps3)"
   ]
  },
  {
   "cell_type": "markdown",
   "metadata": {},
   "source": [
    "### Code for Selection Sort"
   ]
  },
  {
   "cell_type": "code",
   "execution_count": 39,
   "metadata": {},
   "outputs": [
    {
     "name": "stdout",
     "output_type": "stream",
     "text": [
      "Using SELECTION SORT\n",
      "The data being sorted is: [-2, 45, 0, 11, -9]\n",
      "Sorted Array in Ascending Order: [-9, -2, 0, 11, 45] With the number of comparisons= 10 and number of swaps= 5\n",
      "The data being sorted is: [1, 2, 3, 4, 5]\n",
      "Sorted Array in Ascending Order: [1, 2, 3, 4, 5] With the number of comparisons= 10 and number of swaps= 5\n",
      "The data being sorted is: [5, 4, 3, 2, 1]\n",
      "Sorted Array in Ascending Order: [1, 2, 3, 4, 5] With the number of comparisons= 10 and number of swaps= 5\n"
     ]
    }
   ],
   "source": [
    "# Selection sort in Python\n",
    "\n",
    "\n",
    "def selectionSort(array, size):\n",
    "    numOfComparisons=0\n",
    "    numOfSwaps=0\n",
    "   \n",
    "    for step in range(size):\n",
    "        min_idx = step\n",
    "\n",
    "        for i in range(step + 1, size):\n",
    "            numOfComparisons+=1\n",
    "            # to sort in descending order, change > to < in this line\n",
    "            # select the minimum element in each loop\n",
    "            if array[i] < array[min_idx]:\n",
    "                min_idx = i\n",
    "         \n",
    "        # put min at the correct position\n",
    "        (array[step], array[min_idx]) = (array[min_idx], array[step])\n",
    "        numOfSwaps+=1\n",
    "\n",
    "    return numOfComparisons,numOfSwaps    \n",
    "\n",
    "\n",
    "print(\"Using SELECTION SORT\")\n",
    "\n",
    "data1 = [-2, 45, 0, 11, -9]\n",
    "print(\"The data being sorted is:\",data1)\n",
    "size1=len(data1)\n",
    "num_comparisons1 , num_swaps1 = selectionSort(data1,size1)\n",
    "print(\"Sorted Array in Ascending Order:\" , data1 , \"With the number of comparisons=\", num_comparisons1,\"and number of swaps=\",num_swaps1)\n",
    "\n",
    "data2 = [1, 2, 3, 4, 5]\n",
    "print(\"The data being sorted is:\",data2)\n",
    "size2=len(data2)\n",
    "num_comparisons2 , num_swaps2 = selectionSort(data2,size2)\n",
    "print(\"Sorted Array in Ascending Order:\" , data2 , \"With the number of comparisons=\", num_comparisons2,\"and number of swaps=\",num_swaps2)\n",
    "\n",
    "data3 = [5, 4, 3, 2, 1]\n",
    "print(\"The data being sorted is:\",data3)\n",
    "size3=len(data3)\n",
    "num_comparisons3 , num_swaps3 = selectionSort(data3,size2)\n",
    "print(\"Sorted Array in Ascending Order:\" , data3 , \"With the number of comparisons=\", num_comparisons3,\"and number of swaps=\",num_swaps3)"
   ]
  },
  {
   "cell_type": "code",
   "execution_count": null,
   "metadata": {},
   "outputs": [],
   "source": []
  },
  {
   "cell_type": "markdown",
   "metadata": {},
   "source": [
    "So as you can see in the results, if we compare both the sorts with the help of number of comparisons, they are same in both bubble and selection sort in all the cases.\n",
    "\n",
    "***\n",
    "\n",
    "Comparing with the help of number of swaps selection sort has less swaps as compared to bubble sort in worst case but more swaps in best case.\n",
    "\n",
    "***\n",
    "\n",
    "As we know from the algorithms Bubble sort is exclusively in-place sorting technique, where as selection sort can be implemented both in-place and out-place.\n",
    "\n",
    "In bubble sort, we compare two consecutive elements and then swap. Whereas, in selection sort we find the element with the least/most value then swap to place it at its correct position.\n",
    "\n",
    "The time complexities of both the sorting techniques is O(n^2)."
   ]
  }
 ],
 "metadata": {
  "kernelspec": {
   "display_name": "Python 3.10.6 64-bit",
   "language": "python",
   "name": "python3"
  },
  "language_info": {
   "codemirror_mode": {
    "name": "ipython",
    "version": 3
   },
   "file_extension": ".py",
   "mimetype": "text/x-python",
   "name": "python",
   "nbconvert_exporter": "python",
   "pygments_lexer": "ipython3",
   "version": "3.10.6"
  },
  "orig_nbformat": 4,
  "vscode": {
   "interpreter": {
    "hash": "26de051ba29f2982a8de78e945f0abaf191376122a1563185a90213a26c5da77"
   }
  }
 },
 "nbformat": 4,
 "nbformat_minor": 2
}
