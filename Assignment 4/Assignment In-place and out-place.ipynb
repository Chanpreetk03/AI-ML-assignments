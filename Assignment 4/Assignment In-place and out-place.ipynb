{
 "cells": [
  {
   "cell_type": "markdown",
   "id": "da1a2343",
   "metadata": {},
   "source": [
    "# ASSIGNMENT\n",
    "\n",
    "***"
   ]
  },
  {
   "cell_type": "markdown",
   "id": "835f7f91",
   "metadata": {},
   "source": [
    "### Question-1\n",
    "\n",
    "What is the difference between in-place and out-place sorting algorithms?"
   ]
  },
  {
   "cell_type": "markdown",
   "id": "299ea10a",
   "metadata": {},
   "source": [
    "#### In place sorting algorithm\n",
    "An in-place algorithm transforms the input without using any extra memory. As the algorithm executes, the input is usually overwritten by the output, and no additional space is needed for this operation.\n",
    "\n",
    "An in-place algorithm may require a small amount of extra memory for its operation. However, the amount of memory required must not be dependent on the input size and should be constant.\n",
    "\n",
    "Several sorting algorithms rearrange the input into sorted order in-place, such as insertion sort, selection sort, quick sort, bubble sort, heap sort, etc. All these algorithms require a constant amount of extra space for rearranging the elements in the input array.\n",
    "\n",
    "<img src=\"https://he-s3.s3.amazonaws.com/media/uploads/2888f5b.png\" alt=\"In place\">"
   ]
  },
  {
   "cell_type": "markdown",
   "id": "3a44e25a",
   "metadata": {},
   "source": [
    "#### Out place sorting algorithm\n",
    "An algorithm that is not in-place is called a not-in-place or out-of-place algorithm. Unlike an in-place algorithm, the extra space used by an out-of-place algorithm depends on the input size.\n",
    "\n",
    "The standard merge sort algorithm is an example of out-of-place algorithm as it requires O(n) extra space for merging. The merging can be done in-place, but it increases the time complexity of the sorting routine.\n",
    "\n",
    "<img src=\"https://he-s3.s3.amazonaws.com/media/uploads/2888f5b.png\" alt=\"Out place\">\n"
   ]
  },
  {
   "cell_type": "markdown",
   "id": "0431588c",
   "metadata": {},
   "source": [
    "### Question-2\n",
    " Implement Insertion sort in both (in-place and out-place) manner."
   ]
  },
  {
   "cell_type": "markdown",
   "id": "5544d658",
   "metadata": {},
   "source": [
    "**Insertion Sort** is a simple comparison based sorting algorithm. It inserts every array element into its proper position. In i-th iteration, previous (i-1) elements (i.e. subarray Arr[1:(i-1)]) are already sorted, and the i-th element (Arr[i]) is inserted into its proper place in the previously sorted subarray. "
   ]
  },
  {
   "cell_type": "markdown",
   "id": "4b4fd6a9",
   "metadata": {},
   "source": [
    "In place insertion sort:"
   ]
  },
  {
   "cell_type": "code",
   "execution_count": 15,
   "id": "c18a3fd9",
   "metadata": {},
   "outputs": [
    {
     "name": "stdout",
     "output_type": "stream",
     "text": [
      "Sorted Array in Ascending Order using inplace insertion algorithm is:\n",
      "[1, 3, 4, 5, 9]\n"
     ]
    }
   ],
   "source": [
    "def insertionSort_inplace(array):\n",
    "\n",
    "    for step in range(1, len(array)):\n",
    "        key = array[step]\n",
    "        j = step - 1\n",
    "        \n",
    "        # Compare key with each element on the left of it until an element smaller than it is found\n",
    "        # For descending order, change key<array[j] to key>array[j].        \n",
    "        while j >= 0 and key < array[j]:\n",
    "            array[j + 1] = array[j]\n",
    "            j = j - 1\n",
    "        \n",
    "        # Place key at after the element just smaller than it.\n",
    "        array[j + 1] = key\n",
    "\n",
    "\n",
    "data = [9, 5, 1, 4, 3]\n",
    "insertionSort_inplace(data)\n",
    "print('Sorted Array in Ascending Order using inplace insertion algorithm is:')\n",
    "print(data)"
   ]
  },
  {
   "cell_type": "markdown",
   "id": "6b0fd7ea",
   "metadata": {},
   "source": [
    "Out place insertion sort:"
   ]
  },
  {
   "cell_type": "code",
   "execution_count": 16,
   "id": "b5d5ce32",
   "metadata": {},
   "outputs": [
    {
     "name": "stdout",
     "output_type": "stream",
     "text": [
      "Sorted Array in Ascending Order using out place insertion algorithm is:\n",
      "[1, 3, 4, 5, 9]\n"
     ]
    }
   ],
   "source": [
    "def insertionSort_outplace(arr):\n",
    "    lst = arr.copy()\n",
    "    lst2=[]\n",
    "    while len(lst)!=0:\n",
    "        min=lst[0]\n",
    "        for i in range(len(lst)):\n",
    "            if lst[i]<min:\n",
    "                min=lst[i]\n",
    "        lst.remove(min)\n",
    "        lst2.append(min)\n",
    "    return lst2\n",
    "\n",
    "data = [9, 5, 1, 4, 3]\n",
    "output=insertionSort_outplace(data)\n",
    "print('Sorted Array in Ascending Order using out place insertion algorithm is:')\n",
    "print(output)"
   ]
  },
  {
   "cell_type": "markdown",
   "id": "85b99673",
   "metadata": {},
   "source": [
    "### Question-3\n",
    "Suggest some practical examples of using in-place and out-place techniques."
   ]
  },
  {
   "cell_type": "markdown",
   "id": "8b274b96",
   "metadata": {},
   "source": [
    "#### In place:\n",
    "In-place algorithms are usually used in an embedded system that runs in limited memory. They reduce the space requirements to a great extent, but the algorithm time complexity increases in some cases.\n",
    "\n",
    "#### Out place:\n",
    "It is widely used for external sorting, where random access can be very, very expensive compared to sequential access. It is used where it is known that the data is similar data."
   ]
  }
 ],
 "metadata": {
  "kernelspec": {
   "display_name": "Python 3 (ipykernel)",
   "language": "python",
   "name": "python3"
  },
  "language_info": {
   "codemirror_mode": {
    "name": "ipython",
    "version": 3
   },
   "file_extension": ".py",
   "mimetype": "text/x-python",
   "name": "python",
   "nbconvert_exporter": "python",
   "pygments_lexer": "ipython3",
   "version": "3.9.7"
  }
 },
 "nbformat": 4,
 "nbformat_minor": 5
}
