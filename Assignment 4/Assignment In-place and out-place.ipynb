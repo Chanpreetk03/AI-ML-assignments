{
 "cells": [
  {
   "cell_type": "markdown",
   "id": "d0ce1082",
   "metadata": {},
   "source": [
    "# ASSIGNMENT\n",
    "\n",
    "***"
   ]
  },
  {
   "cell_type": "markdown",
   "id": "46e670f0",
   "metadata": {},
   "source": [
    "### Question-1\n",
    "\n",
    "What is the difference between in-place and out-place sorting algorithms ? "
   ]
  },
  {
   "cell_type": "markdown",
   "id": "e134f59f",
   "metadata": {},
   "source": [
    "#### In place sorting algorithm\n",
    "An in-place algorithm transforms the input without using any extra memory. As the algorithm executes, the input is usually overwritten by the output, and no additional space is needed for this operation.\n",
    "\n",
    "An in-place algorithm may require a small amount of extra memory for its operation. However, the amount of memory required must not be dependent on the input size and should be constant.\n",
    "\n",
    "Several sorting algorithms rearrange the input into sorted order in-place, such as insertion sort, selection sort, quick sort, bubble sort, heap sort, etc. All these algorithms require a constant amount of extra space for rearranging the elements in the input array.\n",
    "\n",
    "<img src=\"https://he-s3.s3.amazonaws.com/media/uploads/2888f5b.png\" alt=\"In place\">"
   ]
  },
  {
   "cell_type": "markdown",
   "id": "28a2a9a9",
   "metadata": {},
   "source": [
    "#### Out place sorting algorithm\n",
    "An algorithm that is not in-place is called a not-in-place or out-of-place algorithm. Unlike an in-place algorithm, the extra space used by an out-of-place algorithm depends on the input size.\n",
    "\n",
    "The standard merge sort algorithm is an example of out-of-place algorithm as it requires O(n) extra space for merging. The merging can be done in-place, but it increases the time complexity of the sorting routine.\n",
    "\n",
    "<img src=\"https://he-s3.s3.amazonaws.com/media/uploads/2888f5b.png\" alt=\"Out place\">\n"
   ]
  },
  {
   "cell_type": "markdown",
   "id": "7553f76a",
   "metadata": {},
   "source": [
    "### Question-2\n",
    " Implement Insertion sort in both (in-place and out-place) manner."
   ]
  },
  {
   "cell_type": "markdown",
   "id": "15470738",
   "metadata": {},
   "source": [
    "### Question-3\n",
    "Suggest some practical examples of using in-place and out-place techniques."
   ]
  },
  {
   "cell_type": "markdown",
   "id": "7f7acbc3",
   "metadata": {},
   "source": [
    "#### In place:\n",
    "In-place algorithms are usually used in an embedded system that runs in limited memory. They reduce the space requirements to a great extent, but the algorithm time complexity increases in some cases.\n",
    "\n",
    "#### Out place:\n",
    "It is widely used for external sorting, where random access can be very, very expensive compared to sequential access. It is used where it is known that the data is similar data."
   ]
  },
  {
   "cell_type": "code",
   "execution_count": null,
   "id": "feaa0701",
   "metadata": {},
   "outputs": [],
   "source": []
  }
 ],
 "metadata": {
  "kernelspec": {
   "display_name": "Python 3 (ipykernel)",
   "language": "python",
   "name": "python3"
  },
  "language_info": {
   "codemirror_mode": {
    "name": "ipython",
    "version": 3
   },
   "file_extension": ".py",
   "mimetype": "text/x-python",
   "name": "python",
   "nbconvert_exporter": "python",
   "pygments_lexer": "ipython3",
   "version": "3.9.7"
  }
 },
 "nbformat": 4,
 "nbformat_minor": 5
}
