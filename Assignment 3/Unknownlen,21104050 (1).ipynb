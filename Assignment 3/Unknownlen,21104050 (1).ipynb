{
 "cells": [
  {
   "cell_type": "markdown",
   "metadata": {},
   "source": [
    "# Assignment, 21104050\n",
    "\n"
   ]
  },
  {
   "cell_type": "markdown",
   "metadata": {},
   "source": [
    "### Finding an element in a list of **unknown size**"
   ]
  },
  {
   "cell_type": "markdown",
   "metadata": {},
   "source": [
    "Suppose we have a list with unknown size"
   ]
  },
  {
   "cell_type": "code",
   "execution_count": 20,
   "metadata": {},
   "outputs": [
    {
     "name": "stdout",
     "output_type": "stream",
     "text": [
      "The List is  [1, 2, 3, 4, 5, 6, 7, 8, 12, 234, 344, 999]\n"
     ]
    }
   ],
   "source": [
    "List=[1,2,3,4,5,6,7,8,12,234,344,999]\n",
    "print(\"The List is \",List)"
   ]
  },
  {
   "cell_type": "markdown",
   "metadata": {},
   "source": [
    "and we need to find an element x"
   ]
  },
  {
   "cell_type": "code",
   "execution_count": 21,
   "metadata": {},
   "outputs": [],
   "source": [
    "x=int(input(\"What number do you want to find in the list ?? :\")) #assuming\n"
   ]
  },
  {
   "cell_type": "markdown",
   "metadata": {},
   "source": [
    "#### Using linear search:"
   ]
  },
  {
   "cell_type": "code",
   "execution_count": 22,
   "metadata": {},
   "outputs": [
    {
     "name": "stdout",
     "output_type": "stream",
     "text": [
      "Using Linear Search :\n",
      "The index of 5 is == 4\n"
     ]
    }
   ],
   "source": [
    "\n",
    "index=0\n",
    "number=0\n",
    "\n",
    "for i in List:\n",
    "    if i==x:\n",
    "        number=x\n",
    "        break\n",
    "    elif(i>x):\n",
    "        break\n",
    "    else:\n",
    "        index+=1\n",
    "print(\"Using Linear Search :\")\n",
    "if number!=0:\n",
    "    print(f'The index of {x} is == {index}')\n",
    "else:\n",
    "    print(f\"The Number {x} is not in the list\")\n",
    "    \n",
    "    \n",
    "        "
   ]
  },
  {
   "cell_type": "markdown",
   "metadata": {},
   "source": [
    "#### So it is quite simple doing the linear search for the number if list is Sorted\n"
   ]
  },
  {
   "cell_type": "markdown",
   "metadata": {},
   "source": [
    "### Doing Binary search : \n"
   ]
  },
  {
   "cell_type": "code",
   "execution_count": 23,
   "metadata": {},
   "outputs": [
    {
     "name": "stdout",
     "output_type": "stream",
     "text": [
      "Solving By binary search method\n",
      "The number 5 is at index 4 in the list\n"
     ]
    }
   ],
   "source": [
    "def findlen(list):\n",
    "    right=0\n",
    "    while list[right]!= None:\n",
    "        while list[right+1]!= None:\n",
    "            try:\n",
    "                while list[right+2]!=None:   \n",
    "                    right+=2 \n",
    "            except:\n",
    "                break   \n",
    "        break\n",
    "    return right\n",
    "            \n",
    "\n",
    "def Binsearch(arr,left,right,num):\n",
    "    if left>right:\n",
    "        return -1\n",
    "    else:\n",
    "        mid=(left+right)//2\n",
    "        \n",
    "        if arr[mid]==num:\n",
    "            \n",
    "            return mid\n",
    "            \n",
    "            \n",
    "        elif arr[mid]>num:\n",
    "            return Binsearch(arr,left,mid-1,num)\n",
    "            \n",
    "            \n",
    "        elif arr[mid]<num:\n",
    "            return Binsearch(arr,mid+1,right,num)\n",
    "           \n",
    "        \n",
    "    \n",
    "    \n",
    "left=0\n",
    "# given list above is List=[1,2,3,4,5,6,7,8,12,234,344,999]\n",
    "right=findlen(List)\n",
    "\n",
    "Ind=Binsearch(List,left,right,x)\n",
    "print(\"Solving By binary search method\")\n",
    "if Ind!=-1:\n",
    "    print(f'The number {x} is at index {Ind} in the list')\n",
    "    \n",
    "else:\n",
    "    print(\"Given number is not in the list\")\n",
    "    \n",
    "\n",
    "    \n",
    "    \n",
    "\n"
   ]
  },
  {
   "cell_type": "code",
   "execution_count": null,
   "metadata": {},
   "outputs": [],
   "source": []
  }
 ],
 "metadata": {
  "kernelspec": {
   "display_name": "Python 3.10.8 64-bit (microsoft store)",
   "language": "python",
   "name": "python3"
  },
  "language_info": {
   "codemirror_mode": {
    "name": "ipython",
    "version": 3
   },
   "file_extension": ".py",
   "mimetype": "text/x-python",
   "name": "python",
   "nbconvert_exporter": "python",
   "pygments_lexer": "ipython3",
   "version": "3.10.8"
  },
  "orig_nbformat": 4,
  "vscode": {
   "interpreter": {
    "hash": "f01c332da3030c182f6a290ff9a1ce9c71d4a41921548305d6f34394e4c06858"
   }
  }
 },
 "nbformat": 4,
 "nbformat_minor": 2
}
